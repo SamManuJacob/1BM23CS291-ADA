{
  "nbformat": 4,
  "nbformat_minor": 0,
  "metadata": {
    "colab": {
      "provenance": [],
      "authorship_tag": "ABX9TyOKAgwARdSrLUtQ8Snw5TfH",
      "include_colab_link": true
    },
    "kernelspec": {
      "name": "python3",
      "display_name": "Python 3"
    },
    "language_info": {
      "name": "python"
    }
  },
  "cells": [
    {
      "cell_type": "markdown",
      "metadata": {
        "id": "view-in-github",
        "colab_type": "text"
      },
      "source": [
        "<a href=\"https://colab.research.google.com/github/SamManuJacob/1BM23CS291-ADA/blob/main/8_Puzzle_ProblemDFS.ipynb\" target=\"_parent\"><img src=\"https://colab.research.google.com/assets/colab-badge.svg\" alt=\"Open In Colab\"/></a>"
      ]
    },
    {
      "cell_type": "code",
      "execution_count": 3,
      "metadata": {
        "colab": {
          "base_uri": "https://localhost:8080/"
        },
        "id": "bHp8Y4QqrCyK",
        "outputId": "241d0849-9dba-4a75-a57f-1e17cf76d371"
      },
      "outputs": [
        {
          "output_type": "stream",
          "name": "stdout",
          "text": [
            "solution by Sam Manu Jacob- 1BM23CS291\n",
            "\n",
            "--- Depth 0 ---\n",
            "State #1: [2, 8, 3, 1, 6, 4, 7, '_', 5]\n",
            "\n",
            "--- Depth 1 ---\n",
            "State #2: [2, 8, 3, 1, '_', 4, 7, 6, 5]\n",
            "\n",
            "--- Depth 2 ---\n",
            "State #3: [2, '_', 3, 1, 8, 4, 7, 6, 5]\n",
            "\n",
            "--- Depth 3 ---\n",
            "State #4: ['_', 2, 3, 1, 8, 4, 7, 6, 5]\n",
            "\n",
            "--- Depth 4 ---\n",
            "State #5: [1, 2, 3, '_', 8, 4, 7, 6, 5]\n",
            "\n",
            "--- Depth 5 ---\n",
            "State #6: [1, 2, 3, 8, '_', 4, 7, 6, 5]\n",
            "\n",
            " Goal reached at depth 5 after exploring 6 states.\n",
            "\n",
            "Solution path:\n",
            "Step 1: [2, 8, 3, 1, '_', 4, 7, 6, 5]\n",
            "Step 2: [2, '_', 3, 1, 8, 4, 7, 6, 5]\n",
            "Step 3: ['_', 2, 3, 1, 8, 4, 7, 6, 5]\n",
            "Step 4: [1, 2, 3, '_', 8, 4, 7, 6, 5]\n",
            "Step 5: [1, 2, 3, 8, '_', 4, 7, 6, 5]\n"
          ]
        }
      ],
      "source": [
        "print(\"solution by Sam Manu Jacob- 1BM23CS291\")\n",
        "def find_possible_moves(state):\n",
        "    index = state.index('_')\n",
        "    moves = {\n",
        "        0: [1, 3],\n",
        "        1: [0, 2, 4],\n",
        "        2: [1, 5],\n",
        "        3: [0, 4, 6],\n",
        "        4: [1, 3, 5, 7],\n",
        "        5: [2, 4, 8],\n",
        "        6: [3, 7],\n",
        "        7: [4, 6, 8],\n",
        "        8: [5, 7],\n",
        "    }\n",
        "    return moves.get(index, [])\n",
        "\n",
        "def dfs(initial_state, goal_state, max_depth=50):\n",
        "    stack = [(initial_state, [], 0)]\n",
        "    visited = {tuple(initial_state)}\n",
        "    states_explored = 0\n",
        "    printed_depths = set()\n",
        "\n",
        "    while stack:\n",
        "        current_state, path, depth = stack.pop()\n",
        "\n",
        "        if depth > max_depth:\n",
        "            continue\n",
        "\n",
        "        if depth not in printed_depths:\n",
        "            print(f\"\\n--- Depth {depth} ---\")\n",
        "            printed_depths.add(depth)\n",
        "\n",
        "        states_explored += 1\n",
        "        print(f\"State #{states_explored}: {current_state}\")\n",
        "\n",
        "        if current_state == goal_state:\n",
        "            print(f\"\\n Goal reached at depth {depth} after exploring {states_explored} states.\\n\")\n",
        "            return path\n",
        "\n",
        "        possible_moves_indices = find_possible_moves(current_state)\n",
        "\n",
        "        for move_index in reversed(possible_moves_indices):  # Reverse for DFS order\n",
        "            next_state = list(current_state)\n",
        "            blank_index = next_state.index('_')\n",
        "            next_state[blank_index], next_state[move_index] = next_state[move_index], next_state[blank_index]\n",
        "\n",
        "            if tuple(next_state) not in visited:\n",
        "                visited.add(tuple(next_state))\n",
        "                stack.append((next_state, path + [next_state], depth + 1))\n",
        "\n",
        "    print(f\"\\n Goal state not reachable within depth {max_depth}. Explored {states_explored} states.\\n\")\n",
        "    return None\n",
        "\n",
        "initial_state = [2, 8, 3, 1, 6, 4, 7, '_', 5]\n",
        "goal_state    = [1, 2, 3, 8, '_', 4, 7, 6, 5]\n",
        "\n",
        "\n",
        "solution_path = dfs(initial_state, goal_state, max_depth=50)\n",
        "\n",
        "\n",
        "if solution_path is None:\n",
        "    print(\"No solution found.\")\n",
        "else:\n",
        "    print(\"Solution path:\")\n",
        "    for step, state in enumerate(solution_path, start=1):\n",
        "        print(f\"Step {step}: {state}\")\n"
      ]
    }
  ]
}